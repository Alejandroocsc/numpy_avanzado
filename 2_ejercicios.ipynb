{
 "cells": [
  {
   "cell_type": "markdown",
   "metadata": {},
   "source": [
    "# Numpy\n",
    "## Ejercicios prácticos\n",
    "\n",
    "---\n",
    "### Utiliza Python y Numpy para realizar las siguientes operaciones:\n",
    "1. Dado el arreglo `a = np.array([1, 2, 3, 4])`, determina si ninguno de los elementos es cero.\n",
    "2. Dado el arreglo `a = np.array([0, 0, 2, 0])`, determina si contiene algún elemento que no sea cero.\n",
    "3. Analiza el arreglo `a = np.array([1, 2, np.nan, np.inf])` y determina si contiene valores que sean infinitos o valores no numéricos (NaN).\n",
    "4. Dado el arreglo `a = np.array([1, 2, np.inf])`, determina si contiene valores infinitos.\n",
    "5. Dado el arreglo `a = np.array([1, np.nan, 3])`, determina si contiene valores NaN.\n",
    "6. Dados los arreglos `a = np.array([1, 3, 5])` y `b = np.array([2, 3, 4])`, realiza una comparación elemento a elemento contemplando mayor, mayor o igual, menor y menor o igual.\n",
    "7. Crea un arreglo que contenga los valores 1, 7, 13 y 105, y determina la cantidad de memoria que ocupa el arreglo.\n",
    "8. Crea un arreglo de 10 ceros; uno de 10 unos; y uno de 10 cincos.\n",
    "9. Crea un arreglo que contenga todos los números enteros entre 30 y 70.\n",
    "10. Crea un arreglo que contenga los números pares entre 30 y 70.\n",
    "11. Crea una matriz identidad de 3x3.\n",
    "12. Genera un número aleatorio entre 0 y 1.\n",
    "13. Crea un arreglo de 15 números aleatorios tomados de una distribución normal estándar.\n",
    "14. Crea un arreglo con valores entre 15 y 55, e imprime todos los valores excepto el primero y el último.\n",
    "15. Crea un vector (arreglo) de longitud 10 con valores equitativamente distribuidos entre 5 y 50.\n",
    "16. Crea un vector con valores de 0 a 20, y cambia el signo de los números de 9 a 15.\n",
    "17. Convierte el arreglo `a = np.array([1, 2, 3])` a una lista de Python.\n",
    "18. Convierte la lista `l = [1, 2, 3]` a un arreglo de Numpy.\n",
    "19. Dada la matriz `m = np.array([[1, 2], [3, 4]])`, verifica qué números son pares y almacena los resultados en otra matriz.\n",
    "20. Dado el arreglo `m = np.array([[1, 2, 3], [4, 5, 6]])`, encuentra el número de filas y columnas de la matriz."
   ]
  },
  {
   "cell_type": "code",
   "execution_count": 1,
   "metadata": {},
   "outputs": [],
   "source": [
    "import numpy as np"
   ]
  },
  {
   "cell_type": "code",
   "execution_count": 2,
   "metadata": {},
   "outputs": [
    {
     "name": "stdout",
     "output_type": "stream",
     "text": [
      "True\n"
     ]
    }
   ],
   "source": [
    "# ejercicio 1\n",
    "a = np.array([1, 2, 3, 4])\n",
    "resultado = not (a == 0).any()\n",
    "print(resultado)"
   ]
  },
  {
   "cell_type": "code",
   "execution_count": 3,
   "metadata": {},
   "outputs": [
    {
     "name": "stdout",
     "output_type": "stream",
     "text": [
      "True\n"
     ]
    }
   ],
   "source": [
    "# ejercicio 2\n",
    "a = np.array([0, 0, 2, 0])\n",
    "resultado = np.any(a != 0)\n",
    "print(resultado)"
   ]
  },
  {
   "cell_type": "code",
   "execution_count": 9,
   "metadata": {},
   "outputs": [
    {
     "data": {
      "text/plain": [
       "(array([False, False,  True, False]), array([False, False, False,  True]))"
      ]
     },
     "execution_count": 9,
     "metadata": {},
     "output_type": "execute_result"
    }
   ],
   "source": [
    "# ejercicio 3\n",
    "a = np.array([1, 2, np.nan, np.inf])\n",
    "nan = np.isnan(a)\n",
    "inf = np.isinf(a)\n",
    "nan, inf\n",
    "\n"
   ]
  },
  {
   "cell_type": "code",
   "execution_count": 11,
   "metadata": {},
   "outputs": [
    {
     "name": "stdout",
     "output_type": "stream",
     "text": [
      "True\n"
     ]
    }
   ],
   "source": [
    "# ejercicio 4\n",
    "a = np.array([1, 2, np.nan, np.inf])\n",
    "resultado = np.any(np.isinf(a) | np.isnan(a))\n",
    "print(resultado)"
   ]
  },
  {
   "cell_type": "code",
   "execution_count": 12,
   "metadata": {},
   "outputs": [
    {
     "name": "stdout",
     "output_type": "stream",
     "text": [
      "True\n"
     ]
    }
   ],
   "source": [
    "#ejercicio 5\n",
    "a = np.array([1, np.nan, 3])\n",
    "resultado = np.any(np.isnan(a))\n",
    "print(resultado)"
   ]
  },
  {
   "cell_type": "code",
   "execution_count": 13,
   "metadata": {},
   "outputs": [
    {
     "name": "stdout",
     "output_type": "stream",
     "text": [
      "a > b: [False False  True]\n",
      "a >= b: [False  True  True]\n",
      "a < b: [ True False False]\n",
      "a <= b: [ True  True False]\n",
      "a == b: [False  True False]\n",
      "a != b: [ True False  True]\n"
     ]
    }
   ],
   "source": [
    "#ejercicio 6\n",
    "import numpy as np\n",
    "\n",
    "a = np.array([1, 3, 5])\n",
    "b = np.array([2, 3, 4])\n",
    "\n",
    "# Mayor que\n",
    "mayor = a > b\n",
    "print(\"a > b:\", mayor)  # [False False  True]\n",
    "\n",
    "# Mayor o igual que\n",
    "mayor_igual = a >= b\n",
    "print(\"a >= b:\", mayor_igual)  # [False  True  True]\n",
    "\n",
    "# Menor que\n",
    "menor = a < b\n",
    "print(\"a < b:\", menor)  # [ True False False]\n",
    "\n",
    "# Menor o igual que\n",
    "menor_igual = a <= b\n",
    "print(\"a <= b:\", menor_igual)  # [ True  True False]\n",
    "\n",
    "# Igualdad\n",
    "igual = a == b\n",
    "print(\"a == b:\", igual)  # [False  True False]\n",
    "\n",
    "# Diferente de\n",
    "diferente = a != b\n",
    "print(\"a != b:\", diferente)  # [ True False  True]\n"
   ]
  },
  {
   "cell_type": "code",
   "execution_count": 14,
   "metadata": {},
   "outputs": [
    {
     "name": "stdout",
     "output_type": "stream",
     "text": [
      "Arreglo: [  1   7  13 105]\n",
      "Memoria total: 32 bytes\n",
      "Memoria por elemento: 8 bytes\n",
      "Forma alternativa - memoria total: 32 bytes\n"
     ]
    }
   ],
   "source": [
    "# ejercicio 7\n",
    "import numpy as np\n",
    "\n",
    "# Crear el arreglo\n",
    "a = np.array([1, 7, 13, 105])\n",
    "print(\"Arreglo:\", a)\n",
    "\n",
    "# Cantidad de memoria que ocupa (en bytes)\n",
    "memoria_bytes = a.nbytes\n",
    "print(f\"Memoria total: {memoria_bytes} bytes\")\n",
    "\n",
    "# Memoria por elemento\n",
    "memoria_por_elemento = a.itemsize\n",
    "print(f\"Memoria por elemento: {memoria_por_elemento} bytes\")\n",
    "\n",
    "# También se puede obtener así:\n",
    "print(f\"Forma alternativa - memoria total: {a.size * a.itemsize} bytes\")\n"
   ]
  },
  {
   "cell_type": "code",
   "execution_count": 15,
   "metadata": {},
   "outputs": [
    {
     "data": {
      "text/plain": [
       "(array([0., 0., 0., 0., 0., 0., 0., 0., 0., 0.]),\n",
       " array([1., 1., 1., 1., 1., 1., 1., 1., 1., 1.]),\n",
       " array([5, 5, 5, 5, 5, 5, 5, 5, 5, 5]))"
      ]
     },
     "execution_count": 15,
     "metadata": {},
     "output_type": "execute_result"
    }
   ],
   "source": [
    "# ejercicio 8\n",
    "aceros = np.zeros(10)\n",
    "aunos = np.ones(10)\n",
    "acincos = np.full(10, 5)\n",
    "\n",
    "aceros, aunos, acincos\n"
   ]
  },
  {
   "cell_type": "code",
   "execution_count": 16,
   "metadata": {},
   "outputs": [
    {
     "name": "stdout",
     "output_type": "stream",
     "text": [
      "Con arange: [30 31 32 33 34 35 36 37 38 39 40 41 42 43 44 45 46 47 48 49 50 51 52 53\n",
      " 54 55 56 57 58 59 60 61 62 63 64 65 66 67 68 69 70]\n"
     ]
    }
   ],
   "source": [
    "# ejercicio 9\n",
    "arreglo1 = np.arange(30, 71)\n",
    "print(\"Con arange:\", arreglo1)"
   ]
  },
  {
   "cell_type": "code",
   "execution_count": 17,
   "metadata": {},
   "outputs": [
    {
     "name": "stdout",
     "output_type": "stream",
     "text": [
      "Con arange paso 2: [30 32 34 36 38 40 42 44 46 48 50 52 54 56 58 60 62 64 66 68 70]\n"
     ]
    }
   ],
   "source": [
    "# ejercicio 10\n",
    "pares1 = np.arange(30, 71, 2)\n",
    "print(\"Con arange paso 2:\", pares1)"
   ]
  },
  {
   "cell_type": "code",
   "execution_count": 18,
   "metadata": {},
   "outputs": [
    {
     "name": "stdout",
     "output_type": "stream",
     "text": [
      "\n",
      "Con eye():\n",
      "[[1. 0. 0.]\n",
      " [0. 1. 0.]\n",
      " [0. 0. 1.]]\n"
     ]
    }
   ],
   "source": [
    "# ejercicio 11\n",
    "identidad2 = np.eye(3)\n",
    "print(\"\\nCon eye():\")\n",
    "print(identidad2)"
   ]
  },
  {
   "cell_type": "code",
   "execution_count": 2,
   "metadata": {},
   "outputs": [
    {
     "name": "stdout",
     "output_type": "stream",
     "text": [
      "Número aleatorio con rand(): 0.1225269221857499\n"
     ]
    }
   ],
   "source": [
    "# ejercicio 12\n",
    "import numpy as np\n",
    "\n",
    "a = np.random.rand()\n",
    "print(\"Número aleatorio con rand():\", a)\n"
   ]
  },
  {
   "cell_type": "code",
   "execution_count": 3,
   "metadata": {},
   "outputs": [
    {
     "name": "stdout",
     "output_type": "stream",
     "text": [
      "15 números de normal estándar (randn):\n",
      "[ 0.10391741  0.87062487 -0.193765   -1.43731223  2.3950763   1.27154352\n",
      " -0.31909765  0.46537346 -0.39090002 -0.69684161 -1.90182029  0.00691482\n",
      "  1.74078428  0.16696574 -0.39523253]\n"
     ]
    }
   ],
   "source": [
    "# ejercicio 13\n",
    "import numpy as np\n",
    "\n",
    "\n",
    "a = np.random.randn(15)\n",
    "print(\"15 números de normal estándar (randn):\")\n",
    "print(a)"
   ]
  },
  {
   "cell_type": "code",
   "execution_count": 4,
   "metadata": {},
   "outputs": [
    {
     "data": {
      "text/plain": [
       "array([16, 17, 18, 19, 20, 21, 22, 23, 24, 25, 26, 27, 28, 29, 30, 31, 32,\n",
       "       33, 34, 35, 36, 37, 38, 39, 40, 41, 42, 43, 44, 45, 46, 47, 48, 49,\n",
       "       50, 51, 52, 53, 54])"
      ]
     },
     "execution_count": 4,
     "metadata": {},
     "output_type": "execute_result"
    }
   ],
   "source": [
    "# ejercicio 14\n",
    "\n",
    "import numpy as np\n",
    "\n",
    "a = np.arange(15, 56)\n",
    "a[1:-1]\n",
    "\n"
   ]
  },
  {
   "cell_type": "code",
   "execution_count": 5,
   "metadata": {},
   "outputs": [
    {
     "data": {
      "text/plain": [
       "array([ 5., 10., 15., 20., 25., 30., 35., 40., 45., 50.])"
      ]
     },
     "execution_count": 5,
     "metadata": {},
     "output_type": "execute_result"
    }
   ],
   "source": [
    "# ejercicio 15\n",
    "import numpy as np\n",
    "a = np.linspace(5, 50, 10)\n",
    "a\n"
   ]
  },
  {
   "cell_type": "code",
   "execution_count": 7,
   "metadata": {},
   "outputs": [
    {
     "data": {
      "text/plain": [
       "array([  0,   1,   2,   3,   4,   5,   6,   7,   8,  -9, -10, -11, -12,\n",
       "       -13, -14, -15,  16,  17,  18,  19,  20])"
      ]
     },
     "execution_count": 7,
     "metadata": {},
     "output_type": "execute_result"
    }
   ],
   "source": [
    "# ejercicio 16\n",
    "\n",
    "import numpy as np\n",
    "\n",
    "\n",
    "a = np.arange(21)\n",
    "a[9:16] = -a[9:16]\n",
    "a\n"
   ]
  },
  {
   "cell_type": "code",
   "execution_count": 8,
   "metadata": {},
   "outputs": [
    {
     "name": "stdout",
     "output_type": "stream",
     "text": [
      "Arreglo NumPy: [1 2 3]\n",
      "Tipo: <class 'numpy.ndarray'>\n",
      "\n",
      "Lista Python: [1, 2, 3]\n",
      "Tipo: <class 'list'>\n"
     ]
    }
   ],
   "source": [
    "# ejercicio 17\n",
    "import numpy as np\n",
    "\n",
    "\n",
    "a = np.array([1, 2, 3])\n",
    "print(\"Arreglo NumPy:\", a)\n",
    "print(\"Tipo:\", type(a))\n",
    "\n",
    "lista_python = a.tolist()\n",
    "print(\"\\nLista Python:\", lista_python)\n",
    "print(\"Tipo:\", type(lista_python))"
   ]
  },
  {
   "cell_type": "code",
   "execution_count": 9,
   "metadata": {},
   "outputs": [
    {
     "name": "stdout",
     "output_type": "stream",
     "text": [
      "Lista Python: [1, 2, 3]\n",
      "Tipo: <class 'list'>\n",
      "\n",
      "Arreglo NumPy: [1 2 3]\n",
      "Tipo: <class 'numpy.ndarray'>\n"
     ]
    }
   ],
   "source": [
    "# ejercicio 18\n",
    "import numpy as np\n",
    "\n",
    "\n",
    "l = [1, 2, 3]\n",
    "print(\"Lista Python:\", l)\n",
    "print(\"Tipo:\", type(l))\n",
    "\n",
    "\n",
    "arreglo_numpy = np.array(l)\n",
    "print(\"\\nArreglo NumPy:\", arreglo_numpy)\n",
    "print(\"Tipo:\", type(arreglo_numpy))\n"
   ]
  },
  {
   "cell_type": "code",
   "execution_count": 10,
   "metadata": {},
   "outputs": [
    {
     "name": "stdout",
     "output_type": "stream",
     "text": [
      "Matriz original:\n",
      "\n",
      "Matriz de resultados (True = par, False = impar):\n",
      "[[False  True]\n",
      " [False  True]]\n"
     ]
    }
   ],
   "source": [
    "# ejercicio 19\n",
    "\n",
    "import numpy as np\n",
    "\n",
    "\n",
    "a = np.array([[1, 2], [3, 4]])\n",
    "print(\"Matriz original:\")\n",
    "a\n",
    "\n",
    "resultados = a % 2 == 0\n",
    "print(\"\\nMatriz de resultados (True = par, False = impar):\")\n",
    "print(resultados)"
   ]
  },
  {
   "cell_type": "code",
   "execution_count": 11,
   "metadata": {},
   "outputs": [
    {
     "name": "stdout",
     "output_type": "stream",
     "text": [
      "Matriz:\n",
      "[[1 2 3]\n",
      " [4 5 6]]\n",
      "\n",
      "Número de filas: 2\n",
      "Número de columnas: 3\n",
      "Forma completa (shape): (2, 3)\n"
     ]
    }
   ],
   "source": [
    "# ejercicio 20\n",
    "import numpy as np\n",
    "\n",
    "m = np.array([[1, 2, 3], [4, 5, 6]])\n",
    "\n",
    "\n",
    "filas, columnas = m.shape\n",
    "\n",
    "print(\"Matriz:\")\n",
    "print(m)\n",
    "print(f\"\\nNúmero de filas: {filas}\")\n",
    "print(f\"Número de columnas: {columnas}\")\n",
    "print(f\"Forma completa (shape): {m.shape}\")\n"
   ]
  }
 ],
 "metadata": {
  "kernelspec": {
   "display_name": "Python 3",
   "language": "python",
   "name": "python3"
  },
  "language_info": {
   "codemirror_mode": {
    "name": "ipython",
    "version": 3
   },
   "file_extension": ".py",
   "mimetype": "text/x-python",
   "name": "python",
   "nbconvert_exporter": "python",
   "pygments_lexer": "ipython3",
   "version": "3.9.5"
  }
 },
 "nbformat": 4,
 "nbformat_minor": 4
}
